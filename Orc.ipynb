{
 "cells": [
  {
   "cell_type": "code",
   "execution_count": 1,
   "id": "97a42145-9877-47e1-bcd1-1a73d870dad0",
   "metadata": {},
   "outputs": [],
   "source": [
    "import numpy as np\n",
    "import pandas as pd\n",
    "from my_utils import get_df_info\n",
    "from tqdm import tqdm.notebook\n",
    "import rapidfuzz\n",
    "import itertools"
   ]
  },
  {
   "cell_type": "code",
   "execution_count": 2,
   "id": "59988859-09ff-4fad-8e38-0da157bfff16",
   "metadata": {},
   "outputs": [
    {
     "data": {
      "text/html": [
       "<div>\n",
       "<style scoped>\n",
       "    .dataframe tbody tr th:only-of-type {\n",
       "        vertical-align: middle;\n",
       "    }\n",
       "\n",
       "    .dataframe tbody tr th {\n",
       "        vertical-align: top;\n",
       "    }\n",
       "\n",
       "    .dataframe thead th {\n",
       "        text-align: right;\n",
       "    }\n",
       "</style>\n",
       "<table border=\"1\" class=\"dataframe\">\n",
       "  <thead>\n",
       "    <tr style=\"text-align: right;\">\n",
       "      <th></th>\n",
       "      <th>name</th>\n",
       "      <th>surname</th>\n",
       "      <th>fathername</th>\n",
       "      <th>gender</th>\n",
       "      <th>birthdate</th>\n",
       "      <th>inn</th>\n",
       "      <th>passport</th>\n",
       "    </tr>\n",
       "  </thead>\n",
       "  <tbody>\n",
       "    <tr>\n",
       "      <th>0</th>\n",
       "      <td>наталия</td>\n",
       "      <td>фролова</td>\n",
       "      <td>игоревна</td>\n",
       "      <td>ж</td>\n",
       "      <td>1985-07-31</td>\n",
       "      <td>None</td>\n",
       "      <td>4748233001</td>\n",
       "    </tr>\n",
       "    <tr>\n",
       "      <th>1</th>\n",
       "      <td>раиса</td>\n",
       "      <td>фонарева</td>\n",
       "      <td>дмитриевна</td>\n",
       "      <td>ж</td>\n",
       "      <td>1987-04-04</td>\n",
       "      <td>554480956011</td>\n",
       "      <td>2690351333</td>\n",
       "    </tr>\n",
       "    <tr>\n",
       "      <th>2</th>\n",
       "      <td>надежда</td>\n",
       "      <td>филатова</td>\n",
       "      <td>павловна</td>\n",
       "      <td>ж</td>\n",
       "      <td>1974-09-25</td>\n",
       "      <td>451793060934</td>\n",
       "      <td>4134295167</td>\n",
       "    </tr>\n",
       "    <tr>\n",
       "      <th>3</th>\n",
       "      <td>сергей</td>\n",
       "      <td>володин</td>\n",
       "      <td>алексеевич</td>\n",
       "      <td>м</td>\n",
       "      <td>1964-07-22</td>\n",
       "      <td>None</td>\n",
       "      <td>2295582551</td>\n",
       "    </tr>\n",
       "    <tr>\n",
       "      <th>4</th>\n",
       "      <td>дмитрий</td>\n",
       "      <td>чеканов</td>\n",
       "      <td>геннадьевич</td>\n",
       "      <td>м</td>\n",
       "      <td>1963-11-30</td>\n",
       "      <td>261235545350</td>\n",
       "      <td>5849888033</td>\n",
       "    </tr>\n",
       "  </tbody>\n",
       "</table>\n",
       "</div>"
      ],
      "text/plain": [
       "      name   surname   fathername gender   birthdate           inn    passport\n",
       "0  наталия   фролова     игоревна      ж  1985-07-31          None  4748233001\n",
       "1    раиса  фонарева   дмитриевна      ж  1987-04-04  554480956011  2690351333\n",
       "2  надежда  филатова     павловна      ж  1974-09-25  451793060934  4134295167\n",
       "3   сергей   володин   алексеевич      м  1964-07-22          None  2295582551\n",
       "4  дмитрий   чеканов  геннадьевич      м  1963-11-30  261235545350  5849888033"
      ]
     },
     "execution_count": 2,
     "metadata": {},
     "output_type": "execute_result"
    }
   ],
   "source": [
    "df_emp = pd.read_parquet('aim-2024-orcs/employees.parquet', engine='pyarrow')\n",
    "df_emp.head()"
   ]
  },
  {
   "cell_type": "code",
   "execution_count": 3,
   "id": "48b234d2-185b-4c86-94f2-7878abbcce8a",
   "metadata": {},
   "outputs": [
    {
     "data": {
      "text/html": [
       "<div>\n",
       "<style scoped>\n",
       "    .dataframe tbody tr th:only-of-type {\n",
       "        vertical-align: middle;\n",
       "    }\n",
       "\n",
       "    .dataframe tbody tr th {\n",
       "        vertical-align: top;\n",
       "    }\n",
       "\n",
       "    .dataframe thead th {\n",
       "        text-align: right;\n",
       "    }\n",
       "</style>\n",
       "<table border=\"1\" class=\"dataframe\">\n",
       "  <thead>\n",
       "    <tr style=\"text-align: right;\">\n",
       "      <th></th>\n",
       "      <th>name</th>\n",
       "      <th>surname</th>\n",
       "      <th>fathername</th>\n",
       "      <th>gender</th>\n",
       "      <th>birthdate</th>\n",
       "      <th>inn</th>\n",
       "      <th>passport</th>\n",
       "    </tr>\n",
       "  </thead>\n",
       "  <tbody>\n",
       "    <tr>\n",
       "      <th>0</th>\n",
       "      <td>артавазд</td>\n",
       "      <td>пикта</td>\n",
       "      <td>волрьевич</td>\n",
       "      <td>м</td>\n",
       "      <td>1969-01-24</td>\n",
       "      <td>&lt;NA&gt;</td>\n",
       "      <td>&lt;NA&gt;</td>\n",
       "    </tr>\n",
       "    <tr>\n",
       "      <th>1</th>\n",
       "      <td>фамоида</td>\n",
       "      <td>каршибаева</td>\n",
       "      <td>димитриевна</td>\n",
       "      <td>ж</td>\n",
       "      <td>1995-02-26</td>\n",
       "      <td>854523248292</td>\n",
       "      <td>1574350894</td>\n",
       "    </tr>\n",
       "    <tr>\n",
       "      <th>2</th>\n",
       "      <td>анна</td>\n",
       "      <td>селиванова</td>\n",
       "      <td>сергеевна</td>\n",
       "      <td>ж</td>\n",
       "      <td>1988-05-06</td>\n",
       "      <td>&lt;NA&gt;</td>\n",
       "      <td>7331985468</td>\n",
       "    </tr>\n",
       "    <tr>\n",
       "      <th>3</th>\n",
       "      <td>александр</td>\n",
       "      <td>бояринцев</td>\n",
       "      <td>андреевич</td>\n",
       "      <td>м</td>\n",
       "      <td>1995-10-07</td>\n",
       "      <td>&lt;NA&gt;</td>\n",
       "      <td>5666222340</td>\n",
       "    </tr>\n",
       "    <tr>\n",
       "      <th>4</th>\n",
       "      <td>фатхидин</td>\n",
       "      <td>романеко</td>\n",
       "      <td>гаджибахмудович</td>\n",
       "      <td>м</td>\n",
       "      <td>1977-03-04</td>\n",
       "      <td>181559945061</td>\n",
       "      <td>6632447607</td>\n",
       "    </tr>\n",
       "  </tbody>\n",
       "</table>\n",
       "</div>"
      ],
      "text/plain": [
       "        name     surname       fathername gender   birthdate           inn  \\\n",
       "0   артавазд       пикта        волрьевич      м  1969-01-24          <NA>   \n",
       "1    фамоида  каршибаева      димитриевна      ж  1995-02-26  854523248292   \n",
       "2       анна  селиванова        сергеевна      ж  1988-05-06          <NA>   \n",
       "3  александр   бояринцев        андреевич      м  1995-10-07          <NA>   \n",
       "4   фатхидин    романеко  гаджибахмудович      м  1977-03-04  181559945061   \n",
       "\n",
       "     passport  \n",
       "0        <NA>  \n",
       "1  1574350894  \n",
       "2  7331985468  \n",
       "3  5666222340  \n",
       "4  6632447607  "
      ]
     },
     "execution_count": 3,
     "metadata": {},
     "output_type": "execute_result"
    }
   ],
   "source": [
    "df_orc = pd.read_parquet('aim-2024-orcs/orcs.parquet', engine='pyarrow')\n",
    "df_orc.head()"
   ]
  },
  {
   "cell_type": "code",
   "execution_count": 4,
   "id": "e7198d17-946a-4015-82fe-ece877fda2bb",
   "metadata": {},
   "outputs": [],
   "source": [
    "df_emp_info = get_df_info(df_emp)\n",
    "df_orc_info = get_df_info(df_orc)"
   ]
  },
  {
   "cell_type": "code",
   "execution_count": 5,
   "id": "cffd0505-a1bd-4ebc-81da-7b5d82fc5983",
   "metadata": {},
   "outputs": [
    {
     "data": {
      "text/html": [
       "<div>\n",
       "<style scoped>\n",
       "    .dataframe tbody tr th:only-of-type {\n",
       "        vertical-align: middle;\n",
       "    }\n",
       "\n",
       "    .dataframe tbody tr th {\n",
       "        vertical-align: top;\n",
       "    }\n",
       "\n",
       "    .dataframe thead th {\n",
       "        text-align: right;\n",
       "    }\n",
       "</style>\n",
       "<table border=\"1\" class=\"dataframe\">\n",
       "  <thead>\n",
       "    <tr style=\"text-align: right;\">\n",
       "      <th></th>\n",
       "      <th>dtype</th>\n",
       "      <th>nunique</th>\n",
       "      <th>example1</th>\n",
       "      <th>example2</th>\n",
       "      <th>zero</th>\n",
       "      <th>nan</th>\n",
       "      <th>empty_str</th>\n",
       "      <th>vc_max</th>\n",
       "      <th>vc_max_prop</th>\n",
       "      <th>trash_score</th>\n",
       "    </tr>\n",
       "  </thead>\n",
       "  <tbody>\n",
       "    <tr>\n",
       "      <th>name</th>\n",
       "      <td>object</td>\n",
       "      <td>41657</td>\n",
       "      <td>наталия</td>\n",
       "      <td>раиса</td>\n",
       "      <td>-1</td>\n",
       "      <td>n: 0.0</td>\n",
       "      <td>-1</td>\n",
       "      <td>александр</td>\n",
       "      <td>0.037</td>\n",
       "      <td>0.0</td>\n",
       "    </tr>\n",
       "    <tr>\n",
       "      <th>surname</th>\n",
       "      <td>object</td>\n",
       "      <td>217368</td>\n",
       "      <td>фролова</td>\n",
       "      <td>фонарева</td>\n",
       "      <td>-1</td>\n",
       "      <td>n: 0.0</td>\n",
       "      <td>-1</td>\n",
       "      <td>иванова</td>\n",
       "      <td>0.003</td>\n",
       "      <td>0.0</td>\n",
       "    </tr>\n",
       "    <tr>\n",
       "      <th>fathername</th>\n",
       "      <td>object</td>\n",
       "      <td>67217</td>\n",
       "      <td>игоревна</td>\n",
       "      <td>дмитриевна</td>\n",
       "      <td>-1</td>\n",
       "      <td>n: 0.0</td>\n",
       "      <td>-1</td>\n",
       "      <td>александровна</td>\n",
       "      <td>0.043</td>\n",
       "      <td>0.0</td>\n",
       "    </tr>\n",
       "    <tr>\n",
       "      <th>gender</th>\n",
       "      <td>object</td>\n",
       "      <td>2</td>\n",
       "      <td>ж</td>\n",
       "      <td>м</td>\n",
       "      <td>-1</td>\n",
       "      <td>-1</td>\n",
       "      <td>-1</td>\n",
       "      <td>ж</td>\n",
       "      <td>0.513</td>\n",
       "      <td>-1</td>\n",
       "    </tr>\n",
       "    <tr>\n",
       "      <th>birthdate</th>\n",
       "      <td>object</td>\n",
       "      <td>17798</td>\n",
       "      <td>1985-07-31</td>\n",
       "      <td>1987-04-04</td>\n",
       "      <td>-1</td>\n",
       "      <td>-1</td>\n",
       "      <td>-1</td>\n",
       "      <td>1981-11-26</td>\n",
       "      <td>0.0</td>\n",
       "      <td>-1</td>\n",
       "    </tr>\n",
       "    <tr>\n",
       "      <th>inn</th>\n",
       "      <td>object</td>\n",
       "      <td>637770</td>\n",
       "      <td>554480956011</td>\n",
       "      <td>451793060934</td>\n",
       "      <td>-1</td>\n",
       "      <td>n: 0.37</td>\n",
       "      <td>-1</td>\n",
       "      <td>00990643763</td>\n",
       "      <td>0.0</td>\n",
       "      <td>0.37</td>\n",
       "    </tr>\n",
       "    <tr>\n",
       "      <th>passport</th>\n",
       "      <td>object</td>\n",
       "      <td>998643</td>\n",
       "      <td>4748233001</td>\n",
       "      <td>2690351333</td>\n",
       "      <td>-1</td>\n",
       "      <td>n: 0.013</td>\n",
       "      <td>-1</td>\n",
       "      <td>9334394331</td>\n",
       "      <td>0.0</td>\n",
       "      <td>0.013</td>\n",
       "    </tr>\n",
       "  </tbody>\n",
       "</table>\n",
       "</div>"
      ],
      "text/plain": [
       "             dtype nunique      example1      example2 zero       nan  \\\n",
       "name        object   41657       наталия         раиса   -1    n: 0.0   \n",
       "surname     object  217368       фролова      фонарева   -1    n: 0.0   \n",
       "fathername  object   67217      игоревна    дмитриевна   -1    n: 0.0   \n",
       "gender      object       2             ж             м   -1        -1   \n",
       "birthdate   object   17798    1985-07-31    1987-04-04   -1        -1   \n",
       "inn         object  637770  554480956011  451793060934   -1   n: 0.37   \n",
       "passport    object  998643    4748233001    2690351333   -1  n: 0.013   \n",
       "\n",
       "           empty_str         vc_max vc_max_prop trash_score  \n",
       "name              -1      александр       0.037         0.0  \n",
       "surname           -1        иванова       0.003         0.0  \n",
       "fathername        -1  александровна       0.043         0.0  \n",
       "gender            -1              ж       0.513          -1  \n",
       "birthdate         -1     1981-11-26         0.0          -1  \n",
       "inn               -1    00990643763         0.0        0.37  \n",
       "passport          -1     9334394331         0.0       0.013  "
      ]
     },
     "execution_count": 5,
     "metadata": {},
     "output_type": "execute_result"
    }
   ],
   "source": [
    "df_emp_info"
   ]
  },
  {
   "cell_type": "markdown",
   "id": "e1873832-ff21-4d62-ab81-47585aacd776",
   "metadata": {},
   "source": [
    "Видно, что за исключением колонок `inn` и `passport` данные практически без пропусков. В колонке `passport` 1.3% пропусков, а в `inn` уже целых 37% пропусков."
   ]
  },
  {
   "cell_type": "code",
   "execution_count": 6,
   "id": "8c22f5f7-691b-4a04-ab2e-95252e3e9a10",
   "metadata": {},
   "outputs": [
    {
     "data": {
      "text/html": [
       "<div>\n",
       "<style scoped>\n",
       "    .dataframe tbody tr th:only-of-type {\n",
       "        vertical-align: middle;\n",
       "    }\n",
       "\n",
       "    .dataframe tbody tr th {\n",
       "        vertical-align: top;\n",
       "    }\n",
       "\n",
       "    .dataframe thead th {\n",
       "        text-align: right;\n",
       "    }\n",
       "</style>\n",
       "<table border=\"1\" class=\"dataframe\">\n",
       "  <thead>\n",
       "    <tr style=\"text-align: right;\">\n",
       "      <th></th>\n",
       "      <th>dtype</th>\n",
       "      <th>nunique</th>\n",
       "      <th>example1</th>\n",
       "      <th>example2</th>\n",
       "      <th>zero</th>\n",
       "      <th>nan</th>\n",
       "      <th>empty_str</th>\n",
       "      <th>vc_max</th>\n",
       "      <th>vc_max_prop</th>\n",
       "      <th>trash_score</th>\n",
       "    </tr>\n",
       "  </thead>\n",
       "  <tbody>\n",
       "    <tr>\n",
       "      <th>name</th>\n",
       "      <td>string</td>\n",
       "      <td>23359</td>\n",
       "      <td>артавазд</td>\n",
       "      <td>фамоида</td>\n",
       "      <td>-1</td>\n",
       "      <td>-1</td>\n",
       "      <td>-1</td>\n",
       "      <td>александр</td>\n",
       "      <td>0.011</td>\n",
       "      <td>-1</td>\n",
       "    </tr>\n",
       "    <tr>\n",
       "      <th>surname</th>\n",
       "      <td>string</td>\n",
       "      <td>38712</td>\n",
       "      <td>пикта</td>\n",
       "      <td>каршибаева</td>\n",
       "      <td>-1</td>\n",
       "      <td>-1</td>\n",
       "      <td>-1</td>\n",
       "      <td>кузнецова</td>\n",
       "      <td>0.001</td>\n",
       "      <td>-1</td>\n",
       "    </tr>\n",
       "    <tr>\n",
       "      <th>fathername</th>\n",
       "      <td>string</td>\n",
       "      <td>27430</td>\n",
       "      <td>волрьевич</td>\n",
       "      <td>димитриевна</td>\n",
       "      <td>-1</td>\n",
       "      <td>n: 0.0</td>\n",
       "      <td>e: 0.0</td>\n",
       "      <td>александровна</td>\n",
       "      <td>0.014</td>\n",
       "      <td>0.0</td>\n",
       "    </tr>\n",
       "    <tr>\n",
       "      <th>gender</th>\n",
       "      <td>string</td>\n",
       "      <td>2</td>\n",
       "      <td>м</td>\n",
       "      <td>ж</td>\n",
       "      <td>-1</td>\n",
       "      <td>-1</td>\n",
       "      <td>-1</td>\n",
       "      <td>м</td>\n",
       "      <td>0.705</td>\n",
       "      <td>-1</td>\n",
       "    </tr>\n",
       "    <tr>\n",
       "      <th>birthdate</th>\n",
       "      <td>string</td>\n",
       "      <td>13994</td>\n",
       "      <td>1969-01-24</td>\n",
       "      <td>1995-02-26</td>\n",
       "      <td>-1</td>\n",
       "      <td>n: 0.07</td>\n",
       "      <td>-1</td>\n",
       "      <td>1970-05-29</td>\n",
       "      <td>0.0</td>\n",
       "      <td>0.07</td>\n",
       "    </tr>\n",
       "    <tr>\n",
       "      <th>inn</th>\n",
       "      <td>string</td>\n",
       "      <td>20525</td>\n",
       "      <td>854523248292</td>\n",
       "      <td>181559945061</td>\n",
       "      <td>-1</td>\n",
       "      <td>n: 0.569</td>\n",
       "      <td>-1</td>\n",
       "      <td>100107370630</td>\n",
       "      <td>0.0</td>\n",
       "      <td>0.569</td>\n",
       "    </tr>\n",
       "    <tr>\n",
       "      <th>passport</th>\n",
       "      <td>string</td>\n",
       "      <td>31470</td>\n",
       "      <td>1574350894</td>\n",
       "      <td>7331985468</td>\n",
       "      <td>-1</td>\n",
       "      <td>n: 0.339</td>\n",
       "      <td>-1</td>\n",
       "      <td>1000373865</td>\n",
       "      <td>0.0</td>\n",
       "      <td>0.339</td>\n",
       "    </tr>\n",
       "  </tbody>\n",
       "</table>\n",
       "</div>"
      ],
      "text/plain": [
       "             dtype nunique      example1      example2 zero       nan  \\\n",
       "name        string   23359      артавазд       фамоида   -1        -1   \n",
       "surname     string   38712         пикта    каршибаева   -1        -1   \n",
       "fathername  string   27430     волрьевич   димитриевна   -1    n: 0.0   \n",
       "gender      string       2             м             ж   -1        -1   \n",
       "birthdate   string   13994    1969-01-24    1995-02-26   -1   n: 0.07   \n",
       "inn         string   20525  854523248292  181559945061   -1  n: 0.569   \n",
       "passport    string   31470    1574350894    7331985468   -1  n: 0.339   \n",
       "\n",
       "           empty_str         vc_max vc_max_prop trash_score  \n",
       "name              -1      александр       0.011          -1  \n",
       "surname           -1      кузнецова       0.001          -1  \n",
       "fathername    e: 0.0  александровна       0.014         0.0  \n",
       "gender            -1              м       0.705          -1  \n",
       "birthdate         -1     1970-05-29         0.0        0.07  \n",
       "inn               -1   100107370630         0.0       0.569  \n",
       "passport          -1     1000373865         0.0       0.339  "
      ]
     },
     "execution_count": 6,
     "metadata": {},
     "output_type": "execute_result"
    }
   ],
   "source": [
    "df_orc_info"
   ]
  },
  {
   "cell_type": "markdown",
   "id": "b50d4a94-8635-48e2-b64c-2efcd949cc9c",
   "metadata": {},
   "source": [
    "В таблице орков пропусков больше, и они распределены по тем же колонкам."
   ]
  },
  {
   "cell_type": "code",
   "execution_count": 7,
   "id": "9e78b4f2-2393-4a35-86ec-c7c322f18d20",
   "metadata": {},
   "outputs": [],
   "source": [
    "df = df_emp"
   ]
  },
  {
   "cell_type": "markdown",
   "id": "dc29c967-adcb-41c9-a7fa-c57778b430b5",
   "metadata": {},
   "source": [
    "Заполним пропуски в таблицах случайными валидными значениями из колонок."
   ]
  },
  {
   "cell_type": "code",
   "execution_count": 8,
   "id": "84a4bfe1-6eeb-4455-b44a-faa90b8d75dd",
   "metadata": {},
   "outputs": [],
   "source": [
    "def fill_na_with_random(df, column):\n",
    "    \"\"\"\n",
    "    Заполняет пропуски (NaN) в указанной колонке случайными значениями из уникальных значений этой же колонки.\n",
    "    Если уникальных значений меньше, чем количество NaN, уникальные значения повторяются.\n",
    "    \n",
    "    Параметры:\n",
    "    - df: pd.DataFrame — исходный датафрейм.\n",
    "    - column: str — название колонки, где нужно заполнить пропуски.\n",
    "    \"\"\"\n",
    "    unique_values = df[column].dropna().unique()\n",
    "\n",
    "    num_missing = df[column].isna().sum()\n",
    "    \n",
    "    if num_missing > 0:\n",
    "        random_fill = np.random.choice(unique_values, size=num_missing, replace=True)\n",
    "        df.loc[df[column].isna(), column] = random_fill\n",
    "    return df"
   ]
  },
  {
   "cell_type": "code",
   "execution_count": 9,
   "id": "c3d8e1b8-328e-4495-9297-c2f15d3ee697",
   "metadata": {},
   "outputs": [],
   "source": [
    "for col in df:\n",
    "    df = fill_na_with_random(df, col)"
   ]
  },
  {
   "cell_type": "code",
   "execution_count": 10,
   "id": "eda84803-4ae4-482b-b352-eb2aca581f5a",
   "metadata": {},
   "outputs": [],
   "source": [
    "for col in df_orc:\n",
    "    df_orc_filled = fill_na_with_random(df_orc, col)"
   ]
  },
  {
   "cell_type": "code",
   "execution_count": 11,
   "id": "434f00ab-2cd8-41c2-8144-6a3d4f61d0f3",
   "metadata": {},
   "outputs": [],
   "source": [
    "def top_k_argmin_rows(matrix, k):\n",
    "    \"\"\"\n",
    "    Находит k минимальных индексов для каждой строки матрицы.\n",
    "    \n",
    "    Параметры:\n",
    "    - matrix: np.ndarray — входная матрица (2D).\n",
    "    - k: int — количество минимальных индексов для каждой строки.\n",
    "    \n",
    "    Возвращает:\n",
    "    - np.ndarray: массив с k минимальными индексами для каждой строки.\n",
    "    \"\"\"\n",
    "    partitioned_indices = np.argpartition(matrix, k, axis=1)[:, :k]\n",
    "    sorted_indices = np.array([\n",
    "        row[np.argsort(matrix[i, row])]\n",
    "        for i, row in enumerate(partitioned_indices)\n",
    "    ])\n",
    "    return sorted_indices"
   ]
  },
  {
   "cell_type": "code",
   "execution_count": 12,
   "id": "7a767af2-ed6d-40d5-a9d4-1f39b275bbff",
   "metadata": {},
   "outputs": [],
   "source": [
    "def find_intersections(sets, k=3):\n",
    "    \"\"\"\n",
    "    Находит множества, полученные пересечением любых k из заданных множеств.\n",
    "\n",
    "    Параметры:\n",
    "    - sets: list[set] — список входных множеств.\n",
    "    - k: int — количество множеств в пересечении, k in [2, 3, 4]\n",
    "\n",
    "    Возвращает:\n",
    "    - list[set]: список уникальных пересечений.\n",
    "    \"\"\"\n",
    "    intersections = set()\n",
    "    if k == 4:\n",
    "        for a, b, c, d in itertools.combinations(sets, 4):\n",
    "            intersection = a & b & c & d\n",
    "            intersections.add(frozenset(intersection))\n",
    "    elif k == 3:\n",
    "        for a, b, c in itertools.combinations(sets, 3):\n",
    "            intersection = a & b & c\n",
    "            intersections.add(frozenset(intersection))\n",
    "    elif k == 2:\n",
    "        for a, b in itertools.combinations(sets, 2):\n",
    "            intersection = a & b\n",
    "            intersections.add(frozenset(intersection))\n",
    "    else:\n",
    "        raise ValueError(\"not supported k value\")\n",
    "    return [set(s) for s in intersections]"
   ]
  },
  {
   "cell_type": "markdown",
   "id": "31d5e07a-cb52-43d9-a1f7-a02688fd2c0f",
   "metadata": {},
   "source": [
    "Для приближенного поиска ближайших соседей воспользуемся кластеризацией. Выберем случайно для колонок из списка `[\"surname\", \"birthdate\", \"inn\", \"passport\"]` по `size=1000` центроидов. (выбраны из рассуждений, что по ним наиболее информативно можно поделить на кластеры) "
   ]
  },
  {
   "cell_type": "code",
   "execution_count": 13,
   "id": "cedd97a5-47f8-4586-93d6-02f101fdf9a6",
   "metadata": {},
   "outputs": [],
   "source": [
    "cols = [\"surname\", \"birthdate\", \"inn\", \"passport\"]"
   ]
  },
  {
   "cell_type": "markdown",
   "id": "10985214-bf21-40f8-9297-4322c83a25f8",
   "metadata": {},
   "source": [
    "Каждый центроид порождает кластер (в своей колонке). Выберем ниже для каждого центроида `k=30000` элементов в кластер. Элементы берутся как ближайшие к центроиду. У нас для каждой колонки по `size=1000` центроидов, соответственно близость определяется метрикой Левенштейна на строках из колонки.\n",
    "\n",
    "Таким образом, получим `len(cols) * size` = 4*1000 кластеров."
   ]
  },
  {
   "cell_type": "code",
   "execution_count": 14,
   "id": "a6eb0d7c-56b2-4869-8126-2707fc23fce8",
   "metadata": {},
   "outputs": [],
   "source": [
    "def centroid_col_dict_func(df, cols):\n",
    "    \"\"\"\n",
    "    Функция формирует по заданным колонкам из cols\n",
    "    словарь, хранящий информацию о центроидах кластеров\n",
    "    и элементах, лежащих в этих кластерах\n",
    "    \n",
    "    Параметры:\n",
    "    - df: pd.DataFrame — список работников\n",
    "    - cols: list - список колонок, по которым нужно кластеризовать\n",
    "\n",
    "    Возвращает:\n",
    "    - dict(col: tuple(numpy.ndarray, numpy.ndarray))\n",
    "\n",
    "    P.S. Все метрические свойства вычисляются по метрике Левенштейна\n",
    "    \"\"\"\n",
    "    distance_col = {}\n",
    "    for col in tqdm(cols, total=len(cols)):\n",
    "        rand_ind = np.random.randint(len(df), size=1000)\n",
    "        distance_col[col] = (\n",
    "            rand_ind,\n",
    "            rapidfuzz.process.cdist(\n",
    "                df[col].iloc[rand_ind].astype(str).to_numpy().reshape(-1),\n",
    "                df[col].astype(str).to_numpy().reshape(-1),\n",
    "                scorer=rapidfuzz.distance.Levenshtein.distance,\n",
    "            ),\n",
    "        )\n",
    "    centroid_col_dict = {}\n",
    "    for col in tqdm(cols, total=len(cols)):\n",
    "        centroid_col_dict[col] = (\n",
    "            distance_col[col][0],\n",
    "            top_k_argmin_rows(distance_col[col][1], k=30000),\n",
    "        )\n",
    "    return centroid_col_dict"
   ]
  },
  {
   "cell_type": "code",
   "execution_count": 15,
   "id": "71d984cc-4c8a-4fba-9f94-42926b6d615c",
   "metadata": {},
   "outputs": [
    {
     "name": "stderr",
     "output_type": "stream",
     "text": [
      "100%|████████████████████████████████████████████████████████████████████████████████████| 4/4 [01:04<00:00, 16.19s/it]\n",
      "100%|████████████████████████████████████████████████████████████████████████████████████| 4/4 [02:16<00:00, 34.23s/it]\n"
     ]
    }
   ],
   "source": [
    "centroid_col_dict = centroid_col_dict_func(df, cols)"
   ]
  },
  {
   "cell_type": "code",
   "execution_count": 16,
   "id": "82f82252-8c98-4f4f-8ba7-6f7093f30a11",
   "metadata": {},
   "outputs": [
    {
     "name": "stdout",
     "output_type": "stream",
     "text": [
      "type(centroid_col_dict) = <class 'dict'>,                         len(centroid_col_dict) = 4\n",
      "type(centroid_col_dict['inn']) = <class 'tuple'>,                 len(centroid_col_dict['inn']) = 2\n",
      "type(centroid_col_dict['inn'][0]) = <class 'numpy.ndarray'>,      centroid_col_dict['inn'][0].shape = (1000,)\n",
      "type(centroid_col_dict['inn'][1]) = <class 'numpy.ndarray'>,      centroid_col_dict['inn'][1].shape = (1000, 30000)\n"
     ]
    }
   ],
   "source": [
    "print(f\"{type(centroid_col_dict) = },                         {len(centroid_col_dict) = }\")\n",
    "print(f\"{type(centroid_col_dict['inn']) = },                 {len(centroid_col_dict['inn']) = }\")\n",
    "print(f\"{type(centroid_col_dict['inn'][0]) = },      {centroid_col_dict['inn'][0].shape = }\")\n",
    "print(f\"{type(centroid_col_dict['inn'][1]) = },      {centroid_col_dict['inn'][1].shape = }\")"
   ]
  },
  {
   "cell_type": "markdown",
   "id": "08aa54f1-e965-4aa6-95c2-b9e55d45063a",
   "metadata": {},
   "source": [
    "Полученный словарь `centroid_col_dict` в качестве ключей имеет названия колонок, значения - кортежи. В кортеже первый элемент - массив NumPy, в котором хранятся индексы центроидов, второй элемент - двумерный массив NumPy, который хранит для каждого центроида индексы `k=30000` ближайших соседей."
   ]
  },
  {
   "cell_type": "markdown",
   "id": "8b1fca42-c603-47ec-aabc-f46138b237b9",
   "metadata": {},
   "source": [
    "Ниже считаем расстояния (для каждой колонки) от всех орков до всех центроидов."
   ]
  },
  {
   "cell_type": "code",
   "execution_count": 18,
   "id": "c2334b6e-f984-42f8-b3a6-d57df961d134",
   "metadata": {},
   "outputs": [],
   "source": [
    "def dist_orc_col(df_orc, df_centr, col):\n",
    "    \"\"\"\n",
    "    Функция вычисляет расстояния от каждого орка\n",
    "    до всех центроидов из df_centr по колонке col\n",
    "    \n",
    "    Параметры:\n",
    "    - df_orc: pd.DataFrame — список орков\n",
    "    - df_centr: pd.DataFrame — список центроидов (центроид - некоторый работник)\n",
    "    - col: str - название колонки, по которой считается расстояние\n",
    "\n",
    "    Возвращает:\n",
    "    - np.ndarray: массив с расстояниями Левенштейна от орков до центроидов\n",
    "    \"\"\"\n",
    "    result = rapidfuzz.process.cdist(\n",
    "        df_orc[col].astype(str).to_numpy().reshape(-1),\n",
    "        df_centr[col].astype(str).to_numpy().reshape(-1),\n",
    "        scorer=rapidfuzz.distance.Levenshtein.distance,\n",
    "    )\n",
    "    return result"
   ]
  },
  {
   "cell_type": "code",
   "execution_count": 19,
   "id": "1b1d8d9f-096c-43e6-b644-6c141df62597",
   "metadata": {},
   "outputs": [],
   "source": [
    "def orc_nearest_centr_col_func(df, df_orc, cols, centroid_col_dict):\n",
    "    \"\"\"\n",
    "    Функция вычисляет для каждого орка ближайший центроид\n",
    "    по каждой колонке\n",
    "    \n",
    "    Параметры:\n",
    "    - df: pd.DataFrame — список работников\n",
    "    - df_orc: pd.DataFrame — список орков\n",
    "    - cols: list - список названий колонок, по которым\n",
    "        ищется центроид\n",
    "    - centroid_col_dict: dict(col: tuple(numpy.ndarray, numpy.ndarray)) —\n",
    "        хранит информацию по каждой колонке о центроидах и элементах,\n",
    "        которые принадлежат соответствующему центроиду кластеру,\n",
    "        в numpy.ndarray хранятся индексы\n",
    "\n",
    "    Возвращает:\n",
    "    - orc_nearest_centr_col: dict(col: numpy.ndarray) —\n",
    "        хранит информацию по каждой колонке о ближайшем\n",
    "        центроиде для каждого орка\n",
    "    \"\"\"\n",
    "    orc_dist_col = {}\n",
    "    for col in tqdm(cols):\n",
    "        orc_dist_col[col] = dist_orc_col(df_orc, df.iloc[centroid_col_dict[col][0]], col)\n",
    "    orc_nearest_centr_col = {}\n",
    "    for col in tqdm(cols, total=len(cols)):\n",
    "        orc_nearest_centr_col[col] = top_k_argmin_rows(orc_dist_col[col], k=1)[:,0]\n",
    "    return orc_nearest_centr_col"
   ]
  },
  {
   "cell_type": "markdown",
   "id": "5a319167-c8f4-434c-87ad-0aac9c55de6d",
   "metadata": {},
   "source": [
    "Выделим для каждого орка ближайший центроид (на самом деле набор центроидов, соответствующих каждой колонке)."
   ]
  },
  {
   "cell_type": "code",
   "execution_count": 20,
   "id": "d6c49686-c666-4bbb-a41b-738cab6549ed",
   "metadata": {},
   "outputs": [
    {
     "name": "stderr",
     "output_type": "stream",
     "text": [
      "100%|████████████████████████████████████████████████████████████████████████████████████| 4/4 [00:03<00:00,  1.06it/s]\n",
      "100%|████████████████████████████████████████████████████████████████████████████████████| 4/4 [00:01<00:00,  3.27it/s]\n"
     ]
    }
   ],
   "source": [
    "orc_nearest_centr_col = orc_nearest_centr_col_func(df, df_orc, cols, centroid_col_dict)"
   ]
  },
  {
   "cell_type": "markdown",
   "id": "aef6627e-3a06-4121-90c6-3943cc2cda32",
   "metadata": {},
   "source": [
    "Представленная ниже функция находит приближенных ближайших соседей и расстояния до них. Поиск проходит следующим образом.\n",
    "\n",
    "Сначала отбираются кандидаты в ближайшие соседи. Для каждого орка имеем 4 кластера (по каждой колонке). Возьмем всевозможные пересечения двух кластеров как множеств, а затем возьмем объединение получившихся пересечений. Таким образом, отберем такие объекты, которые близки к нашему орку хотя бы по двум признакам.\n",
    "\n",
    "В среднем в таком случае будет оставаться порядка $10^2$ объектов.\n",
    "\n",
    "Затем уже среди данных ищем ближайшего к нашему орку, причем под расстоянием подразумеваем сумму расстояний Левенштейна по всем колонкам."
   ]
  },
  {
   "cell_type": "code",
   "execution_count": 21,
   "id": "1bcb08b0-83bd-472e-b26d-c2a79e2885a7",
   "metadata": {},
   "outputs": [],
   "source": [
    "def ANN(df, df_orc, centroid_col_dict, orc_nearest_centr_col):\n",
    "    \"\"\"\n",
    "    Находит для каждого орка из df_orc индекс ближайшего\n",
    "    соседа из df и расстояние до него. Поиск осуществляется\n",
    "    с помощью заготовленных заранее кластеров с центроидами.\n",
    "\n",
    "    Параметры:\n",
    "    - df: pd.DataFrame — список работников, из которых хотим найти орков\n",
    "    - df_orc: pd.DataFrame — список орков\n",
    "    - centroid_col_dict: dict(col: tuple(numpy.ndarray, numpy.ndarray)) —\n",
    "        хранит информацию по каждой колонке о центроидах и элементах,\n",
    "        которые принадлежат соответствующему центроиду кластеру,\n",
    "        в numpy.ndarray хранятся индексы\n",
    "    - orc_nearest_centr_col: dict(col: numpy.ndarray) —\n",
    "        хранит информацию по каждой колонке о ближайшем\n",
    "        центроиде для каждого орка\n",
    "\n",
    "    Возвращает:\n",
    "    - result_index: numpy.ndarray: индексы ближайших соседей для каждого орка\n",
    "    - result_value: numpy.ndarray: расстояние до ближайшего соседа\n",
    "\n",
    "    P.S. Все метрические свойства вычисляются по метрике Левенштейна\n",
    "    \"\"\"\n",
    "    result_index = np.zeros(len(df_orc), dtype=\"int64\")\n",
    "    result_value = np.zeros(len(df_orc), dtype=\"int64\")\n",
    "    cols = [\"surname\", \"birthdate\", \"inn\", \"passport\"]\n",
    "    tmp = {}\n",
    "    for col in tqdm(cols, total=len(cols)):\n",
    "        tmp[col] = centroid_col_dict[col][1][orc_nearest_centr_col[col], :]\n",
    "    for i in tqdm(range(len(df_orc))):\n",
    "        set_candidate = set.union(\n",
    "            *find_intersections([set(tmp[col][i]) for col in cols], k=2)\n",
    "        )\n",
    "        list_candidate = list(set_candidate)\n",
    "        sum = np.zeros(len(list_candidate), dtype=\"uint32\")\n",
    "        for col in df.columns:\n",
    "            sum += rapidfuzz.process.cdist(\n",
    "                [df_orc[col].iloc[i]],\n",
    "                df[col].iloc[list_candidate],\n",
    "                scorer=rapidfuzz.distance.Levenshtein.distance,\n",
    "            )[0]\n",
    "        result_value[i] = np.min(sum)\n",
    "        result_index[i] = list_candidate[np.argmin(sum)]\n",
    "    return result_index, result_value"
   ]
  },
  {
   "cell_type": "code",
   "execution_count": 22,
   "id": "39ccef51-3b15-4646-85e2-def2a77963d2",
   "metadata": {},
   "outputs": [
    {
     "name": "stderr",
     "output_type": "stream",
     "text": [
      "100%|████████████████████████████████████████████████████████████████████████████████████| 4/4 [02:24<00:00, 36.14s/it]\n",
      "100%|████████████████████████████████████████████████████████████████████████████| 47633/47633 [27:10<00:00, 29.22it/s]\n"
     ]
    }
   ],
   "source": [
    "result_index, result_value = ANN(df, df_orc_filled, centroid_col_dict, orc_nearest_centr_col)"
   ]
  },
  {
   "cell_type": "markdown",
   "id": "9e68feb7-6aa5-45a7-b568-8dd6ec08bee6",
   "metadata": {},
   "source": [
    "Посмотрим, как распределены получившиеся расстояния до вычисленных ближайших соседей."
   ]
  },
  {
   "cell_type": "code",
   "execution_count": 23,
   "id": "61c0d2ae-f697-4a9a-882c-794aaa53c600",
   "metadata": {},
   "outputs": [
    {
     "name": "stdout",
     "output_type": "stream",
     "text": [
      "Array = [29 30 11 ... 28 30 29]\n",
      "Length =  47633\n",
      "Measures of Dispersion\n",
      "Minimum = 0\n",
      "Maximum = 50\n",
      "Range = 50\n",
      "Standard Deviation = 10.377760559269596\n",
      "mean = 25.7810131631432\n",
      "median = 30.0\n",
      "10% quantile = 9.0\n",
      "20% quantile = 12.0\n",
      "25% quantile = 19.0\n",
      "50% quantile = 30.0\n"
     ]
    }
   ],
   "source": [
    "print(\"Array =\", result_value)\n",
    "print(\"Length = \", result_value.shape[0])\n",
    "print(\"Measures of Dispersion\")\n",
    "print(\"Minimum =\", np.amin(result_value))\n",
    "print(\"Maximum =\", np.amax(result_value))\n",
    "print(\"Range =\", np.ptp(result_value))\n",
    "print(\"Standard Deviation =\", np.std(result_value))\n",
    "print(f\"mean = {np.mean(result_value)}\")\n",
    "print(f\"median = {np.median(result_value)}\")\n",
    "print(f\"10% quantile = {np.quantile(result_value, 0.1)}\")\n",
    "print(f\"20% quantile = {np.quantile(result_value, 0.2)}\")\n",
    "print(f\"25% quantile = {np.quantile(result_value, 0.25)}\")\n",
    "print(f\"50% quantile = {np.quantile(result_value, 0.5)}\")"
   ]
  },
  {
   "cell_type": "markdown",
   "id": "6a4a1e17-34e0-4504-91a7-4841127fae11",
   "metadata": {},
   "source": [
    "Видим, что многие кандидаты в орки имеют большие расстояния от реальных орков. Поэтому будет разумно взять не всю получившуюся выборку, а только ее часть, у которой расстояния наименьшие.\n",
    "\n",
    "Методом пристального взгляда и нескольких попыток отправок на kaggle было выяснено, что значение порога, равное 23, является не самым плохим."
   ]
  },
  {
   "cell_type": "code",
   "execution_count": 24,
   "id": "1e46145f-79c0-4f05-90fd-2e282cc49fda",
   "metadata": {},
   "outputs": [
    {
     "data": {
      "text/plain": [
       "13340"
      ]
     },
     "execution_count": 24,
     "metadata": {},
     "output_type": "execute_result"
    }
   ],
   "source": [
    "(result_value <= 23).sum()"
   ]
  },
  {
   "cell_type": "code",
   "execution_count": 25,
   "id": "948ee251-8d83-40ef-9f40-7937c31f7d50",
   "metadata": {},
   "outputs": [
    {
     "data": {
      "text/plain": [
       "0.2801"
      ]
     },
     "execution_count": 25,
     "metadata": {},
     "output_type": "execute_result"
    }
   ],
   "source": [
    "round((result_value <= 23).sum()/result_value.shape[0],4)"
   ]
  },
  {
   "cell_type": "markdown",
   "id": "299967e8-8883-4979-b7be-c4a3e71ae64b",
   "metadata": {},
   "source": [
    "Итого, в кандидаты записываем 28% из вычисленной выборки, самый отдаленный сосед от орка находится на расстоянии 23 (метрика Левенштейна, сумма по колонкам)."
   ]
  },
  {
   "cell_type": "code",
   "execution_count": 26,
   "id": "a18935f2-8728-4657-9eb7-f3f7e05a2963",
   "metadata": {},
   "outputs": [],
   "source": [
    "answer = result_index[result_value <= 23]"
   ]
  },
  {
   "cell_type": "code",
   "execution_count": 27,
   "id": "d1b2cd7b-a5af-4009-94b4-9fb789cd833b",
   "metadata": {},
   "outputs": [
    {
     "data": {
      "text/html": [
       "<div>\n",
       "<style scoped>\n",
       "    .dataframe tbody tr th:only-of-type {\n",
       "        vertical-align: middle;\n",
       "    }\n",
       "\n",
       "    .dataframe tbody tr th {\n",
       "        vertical-align: top;\n",
       "    }\n",
       "\n",
       "    .dataframe thead th {\n",
       "        text-align: right;\n",
       "    }\n",
       "</style>\n",
       "<table border=\"1\" class=\"dataframe\">\n",
       "  <thead>\n",
       "    <tr style=\"text-align: right;\">\n",
       "      <th></th>\n",
       "      <th>id</th>\n",
       "      <th>orig_index</th>\n",
       "    </tr>\n",
       "  </thead>\n",
       "  <tbody>\n",
       "    <tr>\n",
       "      <th>0</th>\n",
       "      <td>0</td>\n",
       "      <td>145079</td>\n",
       "    </tr>\n",
       "    <tr>\n",
       "      <th>1</th>\n",
       "      <td>1</td>\n",
       "      <td>883225</td>\n",
       "    </tr>\n",
       "    <tr>\n",
       "      <th>2</th>\n",
       "      <td>2</td>\n",
       "      <td>671987</td>\n",
       "    </tr>\n",
       "    <tr>\n",
       "      <th>3</th>\n",
       "      <td>3</td>\n",
       "      <td>294944</td>\n",
       "    </tr>\n",
       "    <tr>\n",
       "      <th>4</th>\n",
       "      <td>4</td>\n",
       "      <td>223716</td>\n",
       "    </tr>\n",
       "    <tr>\n",
       "      <th>...</th>\n",
       "      <td>...</td>\n",
       "      <td>...</td>\n",
       "    </tr>\n",
       "    <tr>\n",
       "      <th>13335</th>\n",
       "      <td>13335</td>\n",
       "      <td>431291</td>\n",
       "    </tr>\n",
       "    <tr>\n",
       "      <th>13336</th>\n",
       "      <td>13336</td>\n",
       "      <td>319502</td>\n",
       "    </tr>\n",
       "    <tr>\n",
       "      <th>13337</th>\n",
       "      <td>13337</td>\n",
       "      <td>298370</td>\n",
       "    </tr>\n",
       "    <tr>\n",
       "      <th>13338</th>\n",
       "      <td>13338</td>\n",
       "      <td>710370</td>\n",
       "    </tr>\n",
       "    <tr>\n",
       "      <th>13339</th>\n",
       "      <td>13339</td>\n",
       "      <td>452769</td>\n",
       "    </tr>\n",
       "  </tbody>\n",
       "</table>\n",
       "<p>13340 rows × 2 columns</p>\n",
       "</div>"
      ],
      "text/plain": [
       "          id  orig_index\n",
       "0          0      145079\n",
       "1          1      883225\n",
       "2          2      671987\n",
       "3          3      294944\n",
       "4          4      223716\n",
       "...      ...         ...\n",
       "13335  13335      431291\n",
       "13336  13336      319502\n",
       "13337  13337      298370\n",
       "13338  13338      710370\n",
       "13339  13339      452769\n",
       "\n",
       "[13340 rows x 2 columns]"
      ]
     },
     "execution_count": 27,
     "metadata": {},
     "output_type": "execute_result"
    }
   ],
   "source": [
    "res = pd.DataFrame({\n",
    "    'orig_index': df.iloc[answer].index.astype(np.uint64),\n",
    "}).reset_index(names='id')\n",
    "res.to_parquet('submission.parquet', index=False)\n",
    "res"
   ]
  },
  {
   "cell_type": "markdown",
   "id": "6bcf68ea-2206-43ba-b6e7-59a0c23abd8d",
   "metadata": {},
   "source": [
    "### Как еще можно улучшить поиск.\n",
    "Далее перечислены некоторые методы, которые позволили бы (возможно) улучшить скор. (На реализацию которых у меня, к сожалению, не хватило времени :( )\n",
    "1. В начале ноутбука было подмечено, что есть категория, в которой есть не малая доля NaN. Также было подмечено, что в таблице с орками заметно больше содержание отсутствующих значений. Эти наблюдения можно использовать для более тонкого предсказания, является ли работник орком. Другими словами, более сложная система обработки отсутствующих данных могла бы возможно значительно увеличить целевую метрику.\n",
    "2. Возможно более хороший результат бы принес бы анализ различных метрик для сравнения строк. Вполне вероятно, что для разных сравнений могут хорошо работать разные метрики, а не только расстояние Левенштейна. Также возможно помогла бы настройка весов по колонкам при суммировании расстояния Левенштейна."
   ]
  },
  {
   "cell_type": "code",
   "execution_count": null,
   "id": "bd97fa8f-f931-4fb5-ab48-f67b0027c7ac",
   "metadata": {},
   "outputs": [],
   "source": []
  }
 ],
 "metadata": {
  "kernelspec": {
   "display_name": "Python 3 (ipykernel)",
   "language": "python",
   "name": "python3"
  },
  "language_info": {
   "codemirror_mode": {
    "name": "ipython",
    "version": 3
   },
   "file_extension": ".py",
   "mimetype": "text/x-python",
   "name": "python",
   "nbconvert_exporter": "python",
   "pygments_lexer": "ipython3",
   "version": "3.11.3"
  }
 },
 "nbformat": 4,
 "nbformat_minor": 5
}
